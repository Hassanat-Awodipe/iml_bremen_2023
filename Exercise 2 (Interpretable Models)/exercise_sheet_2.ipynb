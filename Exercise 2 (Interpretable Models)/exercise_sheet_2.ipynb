{
 "cells": [
  {
   "cell_type": "markdown",
   "metadata": {
    "deletable": false
   },
   "source": [
    "# Interpretable Machine Learning\n",
    "## Exercise Sheet 2: Interpretable Models\n",
    "\n",
    "### This exercise sheet covers lecture 2 on interpretable models\n",
    "Sophie Langbein (langbein@leibniz-bips.de)<br>\n",
    "Pegah Golchian (golchian@leibniz-bips.de)\n",
    "\n",
    "This exercise sheet will be discussed in the Exercise Session on the 6th of November 2023.\n",
    "<hr style=\"border:1.5px solid gray\"> </hr>"
   ]
  },
  {
   "cell_type": "markdown",
   "metadata": {
    "deletable": false
   },
   "source": [
    "# Linear Regression\n",
    "The linear model is one of the first and best-studied models for regression\n",
    "problems. However, it makes some (strong) assumptions about the given data. \n",
    "In the following exercise, you will learn how to fit and interpret a linear \n",
    "model and investigate its limitations. \n",
    "\n",
    "Let's consider a linear regression model \n",
    "for three features $p=3$ of the form\n",
    "$$\n",
    "\\hat{f}(x) = \\beta_0 + x_1 \\beta_1 + x_2 \\beta_2 + x_3\\beta_3 = X \\beta\n",
    "$$\n",
    "and the data is given in the csv-file `sheet_2_lin_data.csv`."
   ]
  },
  {
   "cell_type": "markdown",
   "metadata": {},
   "source": [
    "**a)** Load the data as a `pandas` data frame and visualize in a 2D plot how each \n",
    "feature ($X_1, X_2, X_3$) affects the output $Y$. Preprocess the loaded data frame\n",
    "with `pandas.melt` and use the function `seaborn.scatterplot` with specified \n",
    "grouping argument (`hue`) for the visualization."
   ]
  },
  {
   "cell_type": "code",
   "execution_count": null,
   "metadata": {},
   "outputs": [],
   "source": []
  },
  {
   "cell_type": "code",
   "execution_count": null,
   "metadata": {},
   "outputs": [],
   "source": []
  },
  {
   "cell_type": "markdown",
   "metadata": {
    "deletable": false
   },
   "source": [
    "**b)** Determine the _design matrix_ $X$ of the given data as a `numpy` array (don't \n",
    "forget the column of ones for the intercept $\\beta_0$). Using this matrix $X$, \n",
    "estimate the regression coefficients $\\beta$ of the linear model by the method of least \n",
    "squares and calculate the corresponding standard error of the estimates. Do this from scratch without using any preprogrammed functions for $\\beta$ or the standard errors.\n",
    "\n",
    "**Hint:** The estimated linear regression coefficients are given by \n",
    "$\\hat{\\beta} = (X^T X)^{-1} X^T Y$ and the standard error\n",
    "is given by the square root of the diagonal entries of $(X^TX)^{-1} \\hat{\\sigma}^2$ with \n",
    "$\\hat{\\sigma}^2 = \\frac{1}{n - p} \\sum_{i=1}^n (y_i- \\hat{y}_i)^2$."
   ]
  },
  {
   "cell_type": "code",
   "execution_count": null,
   "metadata": {},
   "outputs": [],
   "source": []
  },
  {
   "cell_type": "markdown",
   "metadata": {
    "deletable": false
   },
   "source": [
    "**c)** Calculate the $R^2$-value. What does the $R^2$-value mean in this context?"
   ]
  },
  {
   "cell_type": "code",
   "execution_count": null,
   "metadata": {},
   "outputs": [],
   "source": []
  },
  {
   "cell_type": "markdown",
   "metadata": {
    "deletable": false
   },
   "source": [
    "**d)** What happens to the outcome if we increase the first feature value $X_1$ by 3? "
   ]
  },
  {
   "cell_type": "code",
   "execution_count": null,
   "metadata": {},
   "outputs": [],
   "source": []
  },
  {
   "cell_type": "markdown",
   "metadata": {},
   "source": [
    "**e)** Which feature is the most important one?"
   ]
  },
  {
   "cell_type": "code",
   "execution_count": null,
   "metadata": {},
   "outputs": [],
   "source": []
  },
  {
   "cell_type": "markdown",
   "metadata": {
    "deletable": false
   },
   "source": [
    "**f)** The data was sampled by the data generating process \n",
    "$$f(x) = x_1 + 2 x_2 + 3 x_3 + \\varepsilon.$$ \n",
    "Does the most important feature from part **d)** make sense regarding the data \n",
    "generating process? Explain your answer!"
   ]
  },
  {
   "cell_type": "code",
   "execution_count": null,
   "metadata": {},
   "outputs": [],
   "source": []
  },
  {
   "cell_type": "markdown",
   "metadata": {
    "deletable": false,
    "editable": false
   },
   "source": [
    "<hr style=\"border:1.5px solid gray\"> </hr>"
   ]
  },
  {
   "cell_type": "code",
   "execution_count": null,
   "metadata": {
    "deletable": false
   },
   "outputs": [],
   "source": []
  },
  {
   "cell_type": "markdown",
   "metadata": {},
   "source": [
    "# Logistic Regression\n",
    "\n",
    "## Introduction of Odds Ratio\n",
    "\n",
    "The iml course is taught at three universities: Bremen, Hannover and Munich. \n",
    "\n",
    "The following table shows the absolute joint and marginal distribution of the exam outcomes and the university location for students who took the course in 2021 (totally real data of course).\n",
    "\n",
    "|          | Bremen   | Hannover | Munich   || Σ     |\n",
    "|----------|----------|----------|----------||-------|\n",
    "| Pass     |    14    |    25    |    42    ||   81  |\n",
    "| Fail     |    21    |    15    |     7    ||   43  |\n",
    "|----------|----------|----------|----------||-------|\n",
    "| Σ        |    35    |    40    |    49    ||  124 ||"
   ]
  },
  {
   "cell_type": "markdown",
   "metadata": {},
   "source": [
    "**a)** Calculate and interpret the odds of passing the IML exam vs. failing the IML exam in 2021."
   ]
  },
  {
   "cell_type": "code",
   "execution_count": null,
   "metadata": {},
   "outputs": [],
   "source": []
  },
  {
   "cell_type": "markdown",
   "metadata": {},
   "source": [
    "**b)** Calculate and interpret the odds of passing the IML exam vs. failing the IML exam in Bremen in 2021."
   ]
  },
  {
   "cell_type": "code",
   "execution_count": null,
   "metadata": {},
   "outputs": [],
   "source": []
  },
  {
   "cell_type": "markdown",
   "metadata": {
    "deletable": false
   },
   "source": [
    "**c)** Calculate and interpret the odds ratio of passing vs. failing of a student in Munich vs. Bremen in 2021."
   ]
  },
  {
   "cell_type": "code",
   "execution_count": null,
   "metadata": {
    "deletable": false
   },
   "outputs": [],
   "source": []
  },
  {
   "cell_type": "markdown",
   "metadata": {
    "deletable": false
   },
   "source": [
    "## Logistic Regression\n",
    "In this exercise, a logistic model is fitted on the [wine dataset](https://archive.ics.uci.edu/dataset/109/wine) derived from three different cultivars (`first cultivar`, `second cultivar`, `third cultivar`). For this exercise we want to consider a two dimensional classification problem, which is why we are interested only in whether a wine is of the first cultivar (`first cultivar`) or not (`second cultivar` or `third cultivar`). For \n",
    "this purpose, we use the [`scikit-learn`](https://scikit-learn.org/stable/) package."
   ]
  },
  {
   "cell_type": "markdown",
   "metadata": {},
   "source": [
    "**a)** Load the wine dataset from `sklearn.datasets` and save the features with \n",
    "corresponding output in one `pandas` dataframe. Adjust the output to the \n",
    "binary classification problem described above. The outcome dataframe should contain the new binary target in a column named `target_binary` and apart from that only the four feature columns `alcohol`, `malic_acid`, `magnesium`and `color_intensity`. "
   ]
  },
  {
   "cell_type": "code",
   "execution_count": null,
   "metadata": {},
   "outputs": [],
   "source": []
  },
  {
   "cell_type": "markdown",
   "metadata": {
    "deletable": false
   },
   "source": [
    "**b)** Visualize this dataframe with `seaborn.pairplot` with grouping argument `target_binary`.\n",
    "What do you think which feature incremented by one unit increases the odds for the class `first cultivar` the most? Explain your choice."
   ]
  },
  {
   "cell_type": "code",
   "execution_count": null,
   "metadata": {},
   "outputs": [],
   "source": []
  },
  {
   "cell_type": "markdown",
   "metadata": {
    "deletable": false
   },
   "source": [
    "**c)** Fit a regression model with the function `sklearn.linear_model.LogisticRegression` and extract the estimated model parameters $\\beta$ from it. Now we want to determine \n",
    "the odds ratio of the parameters. Similar to examples **b)* and **c)** in Exercise 3.1, \n",
    "a logistic model provides a probability conditional on the input data $x$, i.e. \n",
    "the odds are given by\n",
    "\n",
    "$$\n",
    "\\text{odds}_\\text{logreg} = \\frac{\\mathbb{P}(Y = 1 \\mid x)}{\\mathbb{P}(Y = 0 \\mid x)}.\n",
    "$$\n",
    "\n",
    "The stochastic model is now modified by increasing a component of $x$. Denote with $x_{x_i \\to x_i +1}$ a vector where the $i$-th component (feature) is increased by one unit. Thus, the following representation of the odds ratio for the i-th parameter results:\n",
    "\n",
    "$$\n",
    "\\text{OR}_i = \\frac{\\frac{\\mathbb{P}(Y = 1 \\, \\mid \\, x_{x_i \\to x_i +1})}{\\mathbb{P}(Y = 0 \\, \\mid \\, x_{x_i \\to x_i +1})}}{\\frac{\\mathbb{P}(Y = 1 \\, \\mid \\, x)}{\\mathbb{P}(Y = 0 \\, \\mid \\, x)}} = \\exp(\\beta_i).\n",
    "$$\n",
    "\n",
    "What are the odds ratios of your fitted logistic regression model, and which \n",
    "feature increases the odds for the class `first cultiva` the most? How does your \n",
    "choice fit with your thoughts from **b)**?"
   ]
  },
  {
   "cell_type": "code",
   "execution_count": null,
   "metadata": {},
   "outputs": [],
   "source": []
  },
  {
   "cell_type": "markdown",
   "metadata": {},
   "source": [
    "<hr style=\"border:1.5px solid gray\"> </hr>"
   ]
  },
  {
   "cell_type": "markdown",
   "metadata": {
    "deletable": false
   },
   "source": [
    "# Linear Regression with Interactions and Generalized Additive Models\n",
    " \n",
    "Load the dataset `house_dataset_2.csv`. This dataset contains the purchase prices of $10.000$ houses in Germany and includes the `Size` (in m²), `Location` ($0=$ bad, $1=$ good, $2=$ very good and $3=$ luxury), the year of construction (`Year of Construction`), the number of rooms (`Number of Rooms`), the size of the garden (in m²) (`Garden Size`) and whether the house is in an urban area or not (`urban`)."
   ]
  },
  {
   "cell_type": "markdown",
   "metadata": {},
   "source": [
    "**a)** Fit a linear regression model and calculate the mean squared error (MSE) of the dataset."
   ]
  },
  {
   "cell_type": "code",
   "execution_count": null,
   "metadata": {},
   "outputs": [],
   "source": []
  },
  {
   "cell_type": "markdown",
   "metadata": {},
   "source": [
    "**b)** How can this dataset be examined to see whether the feature interactions between the features `Size` ~ `Garden Size`, `Size` ~ `Number of Rooms` and `Garden Size` ~ `Number of Rooms`  affect the output? A visual explanation is enough."
   ]
  },
  {
   "cell_type": "code",
   "execution_count": null,
   "metadata": {},
   "outputs": [],
   "source": []
  },
  {
   "cell_type": "markdown",
   "metadata": {},
   "source": [
    "**c)** Fit a linear regression model on these data by manually adding the relevant interactions. Then calculate the MSE again."
   ]
  },
  {
   "cell_type": "code",
   "execution_count": null,
   "metadata": {},
   "outputs": [],
   "source": []
  },
  {
   "cell_type": "markdown",
   "metadata": {},
   "source": [
    "**d)** Fit a generalized additive model on these data using `LinearGAM` from the [`pygam`](https://pygam.readthedocs.io/en/latest/) package. Accomodate for non-linearity in the features by using spline term `s` and ad the relevant interactions using tensor product terms `te`. Then calculate the MSE again. What do you notice about the MSE? Why is this happening?"
   ]
  },
  {
   "cell_type": "code",
   "execution_count": null,
   "metadata": {},
   "outputs": [],
   "source": []
  },
  {
   "cell_type": "markdown",
   "metadata": {},
   "source": [
    "<hr style=\"border:1.5px solid gray\"> </hr>"
   ]
  },
  {
   "cell_type": "markdown",
   "metadata": {},
   "source": [
    "# Decision Trees"
   ]
  },
  {
   "cell_type": "markdown",
   "metadata": {},
   "source": [
    "For this exercise, we will use the [wine dataset](https://archive.ics.uci.edu/dataset/109/wine) from before. Now we will look at the original dataset from `sklearn.datasets`. "
   ]
  },
  {
   "cell_type": "markdown",
   "metadata": {},
   "source": [
    "**a)** Load the data and get yourself familiar with the explanatory variables. Hint: have a look at `feature_names` and `target_names`."
   ]
  },
  {
   "cell_type": "code",
   "execution_count": null,
   "metadata": {},
   "outputs": [],
   "source": []
  },
  {
   "cell_type": "markdown",
   "metadata": {},
   "source": [
    "**b)** We now want to build a decision tree model that predicts whether the a wine is of kind `first cultivar, second cultivar` or `third cultivar`. For this purpose, do we have to fit a regression or classification decision tree? "
   ]
  },
  {
   "cell_type": "code",
   "execution_count": null,
   "metadata": {},
   "outputs": [],
   "source": []
  },
  {
   "cell_type": "markdown",
   "metadata": {},
   "source": [
    "**c)** Fit a decision tree model to the `wine dataset` set using the [`scikit-learn`](https://scikit-learn.org/stable/) package."
   ]
  },
  {
   "cell_type": "code",
   "execution_count": null,
   "metadata": {},
   "outputs": [],
   "source": []
  },
  {
   "cell_type": "markdown",
   "metadata": {},
   "source": [
    "**d)** Display the fitted tree graphically using the `plot_tree()` method. Explain how to read the output and interpret the results."
   ]
  },
  {
   "cell_type": "code",
   "execution_count": null,
   "metadata": {},
   "outputs": [],
   "source": []
  }
 ],
 "metadata": {
  "anaconda-cloud": "",
  "kernelspec": {
   "display_name": "Python 3",
   "language": "python",
   "name": "python3"
  },
  "language_info": {
   "codemirror_mode": {
    "name": "ipython",
    "version": 3
   },
   "file_extension": ".py",
   "mimetype": "text/x-python",
   "name": "python",
   "nbconvert_exporter": "python",
   "pygments_lexer": "ipython3",
   "version": "3.8.5"
  },
  "toc": {
   "base_numbering": 1,
   "nav_menu": {},
   "number_sections": true,
   "sideBar": true,
   "skip_h1_title": false,
   "title_cell": "Table of Contents",
   "title_sidebar": "Contents",
   "toc_cell": false,
   "toc_position": {},
   "toc_section_display": true,
   "toc_window_display": false
  },
  "varInspector": {
   "cols": {
    "lenName": 16,
    "lenType": 16,
    "lenVar": 40
   },
   "kernels_config": {
    "python": {
     "delete_cmd_postfix": "",
     "delete_cmd_prefix": "del ",
     "library": "var_list.py",
     "varRefreshCmd": "print(var_dic_list())"
    },
    "r": {
     "delete_cmd_postfix": ") ",
     "delete_cmd_prefix": "rm(",
     "library": "var_list.r",
     "varRefreshCmd": "cat(var_dic_list()) "
    }
   },
   "types_to_exclude": [
    "module",
    "function",
    "builtin_function_or_method",
    "instance",
    "_Feature"
   ],
   "window_display": false
  }
 },
 "nbformat": 4,
 "nbformat_minor": 1
}
