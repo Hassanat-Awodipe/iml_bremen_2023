{
 "cells": [
  {
   "cell_type": "markdown",
   "metadata": {},
   "source": [
    "# Interpretable Machine Learning\n",
    "## Exercise Sheet 4: Shapley Values\n",
    "## This exercise sheet covers lecture 4 on Shapley values\n",
    "Sophie Langbein (langbein@leibniz-bips.de)<br>\n",
    "Pegah Golchian (golchian@leibniz-bips.de)\n",
    "<hr style=\"border:1.5px solid gray\"> </hr>"
   ]
  },
  {
   "cell_type": "markdown",
   "metadata": {},
   "source": [
    "# Shapley values\n",
    "\n",
    "First, we implement the original Shapley value for a cooperative game. In the AI quiz we have five players: Timnit, Margret, Samy, Jeff and Larry. The overall payoff function for a set of players S is given as\n",
    "\n",
    "$$\n",
    "\\text{payoff(S)} = 5t + 15m + 10s + 25j + 20(s \\cap m) + 20(t \\cap m \\cap s) − 10((j \\cap t \\cap s) \\cup m) - 10 (t \\cap j)\n",
    "$$\n",
    "\n",
    "where t, m, s, j, l indicate whether Timnit, Margret, Samy, Jeff and Larry are in the set S. The function payoff(set) implements this functionality, where a set is a list/set of the respective characters (’t’, ’s’, ’m’, ’j’)."
   ]
  },
  {
   "cell_type": "markdown",
   "metadata": {},
   "source": [
    "**a)** Calculate the payoff of S = {t,m} and S = {t,j,s}."
   ]
  },
  {
   "cell_type": "markdown",
   "metadata": {},
   "source": []
  },
  {
   "cell_type": "markdown",
   "metadata": {},
   "source": [
    "**b)** Now we want to implement the original, exact Shaplex value algorithm for this payoff function."
   ]
  },
  {
   "cell_type": "markdown",
   "metadata": {},
   "source": [
    "**i)** Start by implementing the function `payoff(set)` assigning a Boolean value for each player. It should return the overall performance as given in the task."
   ]
  },
  {
   "cell_type": "code",
   "execution_count": null,
   "metadata": {},
   "outputs": [],
   "source": []
  },
  {
   "cell_type": "markdown",
   "metadata": {},
   "source": [
    "**ii)** Define a function `all_unique_subsets` returning all subsets of a set."
   ]
  },
  {
   "cell_type": "code",
   "execution_count": null,
   "metadata": {},
   "outputs": [],
   "source": []
  },
  {
   "cell_type": "markdown",
   "metadata": {},
   "source": [
    "**iii)** Finally, implement `shapley` using `all_unique_subsets` and `payoff(set)`. It should return the Shapley value for one specific member of a population, taking a custom value function as an input."
   ]
  },
  {
   "cell_type": "code",
   "execution_count": null,
   "metadata": {},
   "outputs": [],
   "source": []
  },
  {
   "cell_type": "markdown",
   "metadata": {},
   "source": [
    "**iv)** Compute the Shapley value for members s and t using `shapley`."
   ]
  },
  {
   "cell_type": "code",
   "execution_count": null,
   "metadata": {},
   "outputs": [],
   "source": []
  },
  {
   "cell_type": "markdown",
   "metadata": {},
   "source": [
    "**c)** Implement the permutation based approximation of the Shapley value with a fixed number of iterations in a function called `shapley_perm`. It should take the same inputs as the `shapley` function."
   ]
  },
  {
   "cell_type": "code",
   "execution_count": null,
   "metadata": {},
   "outputs": [],
   "source": []
  },
  {
   "cell_type": "markdown",
   "metadata": {},
   "source": [
    "**d)** In this subsection, we want to identify whether the Shapley values or specific sets fulfill the axioms. Please write the functions `symmetry_check`,`dummy_check`, `additivity_check`, `efficiency_check` to check the respective properties, all of which return a Boolean value. We briefly recall the properties below:"
   ]
  },
  {
   "cell_type": "code",
   "execution_count": null,
   "metadata": {},
   "outputs": [],
   "source": []
  },
  {
   "cell_type": "markdown",
   "metadata": {},
   "source": [
    "**(i)** Symmetry: Assess whether two features with the same contributions have the same Shapley value. i.e., if for $S ⊆ P \\setminus \\{j, k\\}$\n",
    "\n",
    "$$\n",
    "v(S \\cup \\{j\\}) − v(S) = v(S \\cup \\{k\\}) − v(S)\n",
    "$$\n",
    "\n",
    "then the Shapley values should be identical. Write the function `symmetry_check`that takes two members, the population, a value function and the shapley function as inputs and returns `TRUE`, if the symmetry property holds for the two members, meaning the function should return `TRUE` when two members with equal surplus have the same shapley value. If two members do not have the same surplus it should return `no equal surplus`. Then test the function using the members `m`and `t` and the `shapley`function. "
   ]
  },
  {
   "cell_type": "code",
   "execution_count": null,
   "metadata": {},
   "outputs": [],
   "source": []
  },
  {
   "cell_type": "markdown",
   "metadata": {},
   "source": [
    "**(ii)** Dummy: Given player $j$ for whom for all subsets $S ⊆ P$ no contribution is made $(v(S) = v(S \\cup \\{j\\}))$ then also the Shapley value must be zero. Write the function `dummy_check`that takes one member, the population, a value function and the shapley function as inputs and returns `TRUE`, if the dummy property holds for the member in question, meaning the function should return `TRUE` when the member without contributions has a zero shapley value. If a member has a non-zero contribution it should return `has contribution` and the corresponding shapley value. Then test the function using the member `l` and the `shapley`function. "
   ]
  },
  {
   "cell_type": "code",
   "execution_count": null,
   "metadata": {},
   "outputs": [],
   "source": []
  },
  {
   "cell_type": "markdown",
   "metadata": {},
   "source": [
    "**(iii)** Additivity: If $v$ is the sum of two games $v_1$ and $v_2$ (i.e. $v(S) = v_1(S) + v_2(S)$) then the payout is the sum of payouts: $\\phi_{j,v} = \\phi_{j,v_1} + \\phi_{j,v_2}$. Write the function `additivity_check`that takes the population, two value functions and the shapley function as inputs and returns `TRUE`, if the additivity property holds, meaning the function should return `TRUE` if the Shapley values obtained by combining the valuation functions are equal to the Shapley values obtained by adding the individual Shapley values of each valuation function. Then test the function using the `payoff` function for both valuation functions and the `shapley`function.   "
   ]
  },
  {
   "cell_type": "code",
   "execution_count": null,
   "metadata": {},
   "outputs": [],
   "source": []
  },
  {
   "cell_type": "markdown",
   "metadata": {},
   "source": [
    "**(iv)** Efficiency: Player contributions add up to the total payout of the game:\n",
    "        \n",
    "$$\n",
    "\\sum_{j=1}^{p} \\phi_j = v(P)\n",
    "$$\n",
    "\n",
    "Write the function `efficiency_check`that takes the population, a value function and the shapley function as inputs and returns `TRUE`, if the efficiency property holds, meaning the function should return `TRUE` if the total value of the game computed by the valuation function is equal to the sum of the individual Shapley values of each member. Then test the function using the `payoff` function and the `shapley`function."
   ]
  },
  {
   "cell_type": "code",
   "execution_count": null,
   "metadata": {},
   "outputs": [],
   "source": []
  },
  {
   "cell_type": "markdown",
   "metadata": {},
   "source": [
    "<hr style=\"border:1.5px solid gray\"> </hr>"
   ]
  },
  {
   "cell_type": "markdown",
   "metadata": {},
   "source": [
    "# SHAP values\n",
    "\n",
    "Similar to Shapley values, SHAP values aim to attribute the contributions of individual elements within a group or model, helping to understand the underlying factors that lead to a specific outcome. However, the key distinction lies in the application domain: Shapley values are traditionally used in cooperative game theory to allocate gains among players, while SHAP values are primarily used in machine learning for model interpretation and feature attribution. They provide a framework for understanding the importance of each feature or input variable in a predictive model, making SHAP values a valuable tool for explaining complex machine learning predictions and improving model transparency."
   ]
  },
  {
   "cell_type": "markdown",
   "metadata": {},
   "source": [
    "In this Exercise we use the [students' performance](https://archive.ics.uci.edu/dataset/320/student+performance) dataset from UCI machine learning respository. This data records student achievement in secondary education of two Portuguese schools. The features include student grades, demographic, social and school related features and it was collected by using school reports and questionnaires. We are considering the performance in Mathematics (`mat`). The target attribute `G3` (0-20) is the final year grade, while `G1` and `G2` correspond to the 1st and 2nd period grades and can be used for prediction. \n",
    "\n",
    "\n",
    "**a)** Load `student-mat.csv` as a pandas dataframe. One hot encode all categorical variables and then create a feature matrix X and a target y. "
   ]
  },
  {
   "cell_type": "code",
   "execution_count": null,
   "metadata": {},
   "outputs": [],
   "source": []
  },
  {
   "cell_type": "markdown",
   "metadata": {},
   "source": [
    "**b)** Predict the final grade `G3` through a random forest regression. For that purpose split the data into training and test set. Then compute the mean squared error and the $R^2$ value of the random forest classifier. "
   ]
  },
  {
   "cell_type": "code",
   "execution_count": null,
   "metadata": {},
   "outputs": [],
   "source": []
  },
  {
   "cell_type": "markdown",
   "metadata": {},
   "source": [
    "**c)** Use an instance from your test set to generate an exemplary prediction for the instance."
   ]
  },
  {
   "cell_type": "code",
   "execution_count": null,
   "metadata": {},
   "outputs": [],
   "source": []
  },
  {
   "cell_type": "markdown",
   "metadata": {},
   "source": [
    "**d)** Calculate SHAP values for the chosen instance using KernelSHAP."
   ]
  },
  {
   "cell_type": "markdown",
   "metadata": {},
   "source": [
    "**Solution:**"
   ]
  },
  {
   "cell_type": "code",
   "execution_count": null,
   "metadata": {},
   "outputs": [],
   "source": [
    "# you may need to downgrade your numpy version to be able to import shap\n",
    "#!pip install numpy==1.20.0"
   ]
  },
  {
   "cell_type": "code",
   "execution_count": null,
   "metadata": {},
   "outputs": [],
   "source": []
  },
  {
   "cell_type": "markdown",
   "metadata": {},
   "source": [
    "**e)** Why might using TreeSHAP be a better idea for our setting than using KernelSHAP? Calculate SHAP values using TreeSHAP."
   ]
  },
  {
   "cell_type": "code",
   "execution_count": null,
   "metadata": {},
   "outputs": [],
   "source": []
  },
  {
   "cell_type": "markdown",
   "metadata": {},
   "source": [
    "**f)** Visualize SHAP values using a force plot and interpret your results."
   ]
  },
  {
   "cell_type": "code",
   "execution_count": null,
   "metadata": {},
   "outputs": [],
   "source": []
  },
  {
   "cell_type": "markdown",
   "metadata": {},
   "source": [
    "**g)**  Create a global SHAP summary plot of your choice and interpret the outcome. "
   ]
  },
  {
   "cell_type": "code",
   "execution_count": null,
   "metadata": {},
   "outputs": [],
   "source": []
  },
  {
   "cell_type": "markdown",
   "metadata": {},
   "source": [
    "<hr style=\"border:1.5px solid gray\"> </hr>"
   ]
  }
 ],
 "metadata": {
  "kernelspec": {
   "display_name": "Python 3",
   "language": "python",
   "name": "python3"
  },
  "language_info": {
   "codemirror_mode": {
    "name": "ipython",
    "version": 3
   },
   "file_extension": ".py",
   "mimetype": "text/x-python",
   "name": "python",
   "nbconvert_exporter": "python",
   "pygments_lexer": "ipython3",
   "version": "3.8.5"
  },
  "toc": {
   "base_numbering": 1,
   "nav_menu": {},
   "number_sections": true,
   "sideBar": true,
   "skip_h1_title": false,
   "title_cell": "Table of Contents",
   "title_sidebar": "Contents",
   "toc_cell": false,
   "toc_position": {},
   "toc_section_display": true,
   "toc_window_display": false
  },
  "varInspector": {
   "cols": {
    "lenName": 16,
    "lenType": 16,
    "lenVar": 40
   },
   "kernels_config": {
    "python": {
     "delete_cmd_postfix": "",
     "delete_cmd_prefix": "del ",
     "library": "var_list.py",
     "varRefreshCmd": "print(var_dic_list())"
    },
    "r": {
     "delete_cmd_postfix": ") ",
     "delete_cmd_prefix": "rm(",
     "library": "var_list.r",
     "varRefreshCmd": "cat(var_dic_list()) "
    }
   },
   "types_to_exclude": [
    "module",
    "function",
    "builtin_function_or_method",
    "instance",
    "_Feature"
   ],
   "window_display": false
  }
 },
 "nbformat": 4,
 "nbformat_minor": 5
}
