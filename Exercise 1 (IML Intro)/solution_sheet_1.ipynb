{
 "cells": [
  {
   "cell_type": "markdown",
   "id": "2395d4a4",
   "metadata": {},
   "source": [
    "# Exercise  1\n",
    "Given a dataset with 9 observations and two features:\n",
    "\n",
    "| | 1 | 2 | 3 | 4 | 5 | 6 | 7 | 8 | 9 | \n",
    "| --- | --- | --- | --- | --- | --- | --- | --- |  --- | --- |\n",
    "| $y$ | -7.79 | -5.37 | -4.08 | -1.97 | 0.02 | 2.05 | 1.93 | 2.16 | 2.13|\n",
    "| $x_1$ | -1.00 | -0.75 | -0.50 | -0.25 | 0.00 | 0.25 | 0.50 | 0.75 | 1.00 | \n",
    "| $x_2$ | 0.01 | 0.44  | 0.74| 0.95| 0.98| 0.94 | 0.76 | 0.42| 0.02|\n",
    "\n",
    "a) Implement the Pearson correlation.\n",
    "\n",
    "b) Calculate the Pearson correlation of $x_1$ and $x_2$ and check your results with a given function of a Python library.\n",
    "\n",
    "c) Interpret the result, are $x_1$ and $x_2$ correlated?\n",
    "\n",
    "d) Plot the points $(x_1, x_2)$ in a figure. Is the Pearson correlation coefficient a reliable measure to detect dependencies for this example dataset.\n",
    "\n",
    "e) Calculate the \"Mutual Information\" (on paper). Is this a more suitable measure for this example? \\\n",
    "Hint: 1) Make histograms of $x_1$ and $x_2$. For $x_1$ use the intervals $[-1,-0.5), [-0,5, 0), [0,0.5), [0,5,1)$  and for $x_2$ the intervals $[0,0.5), [0,5,1)$. \\\n",
    "2) Take mean values (of the histogram) as replacement for the values in $x_1$ and $x_2$. \\\n",
    "3) Create a table with the joint and marginal distribution of the new values for $x_1^*$ and $x_2^*$."
   ]
  },
  {
   "cell_type": "markdown",
   "id": "f6dc4a7f",
   "metadata": {},
   "source": [
    "# Soution 1\n",
    "#### a) Implement the Pearson correlation."
   ]
  },
  {
   "cell_type": "code",
   "execution_count": 1,
   "id": "c5968ca0",
   "metadata": {},
   "outputs": [],
   "source": [
    "import numpy as np"
   ]
  },
  {
   "cell_type": "code",
   "execution_count": 2,
   "id": "c18e157f",
   "metadata": {},
   "outputs": [],
   "source": [
    "def pearson_correlation(x1,x2):\n",
    "    if not (isinstance(x1, (list, np.ndarray)) and isinstance(x2, (list, np.ndarray))):\n",
    "        raise ValueError(\"Input datasets must be lists or 1-dimensional NumPy arrays\")\n",
    "    \n",
    "    if not (len(x1) == len(x2) and x1.ndim == 1 and x2.ndim == 1):\n",
    "        raise ValueError(\"Input datasets must be 1-dimensional and of the same length\")\n",
    "\n",
    "    x1_mean = np.mean(x1)\n",
    "    x2_mean = np.mean(x2)\n",
    "    numerator = np.sum((x1-x1_mean)*(x2-x2_mean))\n",
    "    denominator=  np.sqrt(np.sum((x1-x1_mean)**2))*np.sqrt(np.sum((x2-x2_mean)**2))\n",
    "    \n",
    "    if (denominator == 0):\n",
    "        raise ValueError(\"Denominator is 0.\")\n",
    "    else:\n",
    "        p = numerator/denominator\n",
    "\n",
    "    return p"
   ]
  },
  {
   "cell_type": "markdown",
   "id": "b0cd76bd",
   "metadata": {},
   "source": [
    "#### b) Calculate the Pearson correlation of 𝑥1 and 𝑥2 and check your results with a given function of a Python library."
   ]
  },
  {
   "cell_type": "code",
   "execution_count": 3,
   "id": "a91600a5",
   "metadata": {},
   "outputs": [
    {
     "data": {
      "text/plain": [
       "0.0011945348429373496"
      ]
     },
     "execution_count": 3,
     "metadata": {},
     "output_type": "execute_result"
    }
   ],
   "source": [
    "x1 = np.array([ -1.00, -0.75, -0.50, -0.25, 0.00 , 0.25, 0.50, 0.75, 1.00])\n",
    "x2 = np.array([0.01, 0.44, 0.74, 0.95, 0.98, 0.94, 0.76, 0.42, 0.02 ])\n",
    "\n",
    "pearson_correlation(x1,x2)"
   ]
  },
  {
   "cell_type": "code",
   "execution_count": 4,
   "id": "e50d7a54",
   "metadata": {},
   "outputs": [
    {
     "data": {
      "text/plain": [
       "0.001194534842937342"
      ]
     },
     "execution_count": 4,
     "metadata": {},
     "output_type": "execute_result"
    }
   ],
   "source": [
    "import scipy.stats\n",
    "scipy.stats.pearsonr(x1, x2)[0] "
   ]
  },
  {
   "cell_type": "markdown",
   "id": "e7841882",
   "metadata": {},
   "source": [
    "#### c) Interpret the result, are 𝑥1 and 𝑥2 correlated?"
   ]
  },
  {
   "cell_type": "markdown",
   "id": "ac2fc5a9",
   "metadata": {},
   "source": [
    "The Pearson correlation coefficient is close to 0 $\\implies$ there is no linear relationship between x1 and x2."
   ]
  },
  {
   "cell_type": "markdown",
   "id": "2633c73d",
   "metadata": {},
   "source": [
    "#### d) Plot the points $(x_1,x_2)$ in a figure. Is the Pearson correlation coefficient a reliable measure to detect dependencies for this example dataset."
   ]
  },
  {
   "cell_type": "code",
   "execution_count": 5,
   "id": "9dbc19a4",
   "metadata": {},
   "outputs": [
    {
     "data": {
      "text/plain": [
       "<matplotlib.collections.PathCollection at 0x7f7a6be27280>"
      ]
     },
     "execution_count": 5,
     "metadata": {},
     "output_type": "execute_result"
    },
    {
     "data": {
      "image/png": "[encoded data removed]",
      "text/plain": [
       "<Figure size 432x288 with 1 Axes>"
      ]
     },
     "metadata": {
      "needs_background": "light"
     },
     "output_type": "display_data"
    }
   ],
   "source": [
    "from matplotlib import pyplot as plt\n",
    "plt.scatter(x1, x2)"
   ]
  },
  {
   "cell_type": "markdown",
   "id": "de9e1306",
   "metadata": {},
   "source": [
    "The scatter plot reveals that there is a strong non-linear/quadratic relationship between $x_1$ and $x_2$. The Pearson\n",
    "correlation coefficients is not suitable for detecting non-linear relationships."
   ]
  },
  {
   "cell_type": "markdown",
   "id": "5da67839",
   "metadata": {},
   "source": [
    "#### e) Calculate the \"Mutual Information\" (on paper). Is this a more suitable measure for this example? "
   ]
  },
  {
   "cell_type": "markdown",
   "id": "038035ca",
   "metadata": {},
   "source": [
    "Problem: distribution needed.\n",
    "Solution: e.g. histograms\n",
    "\n",
    "Make histograms of $x_1$ and $x_2$. For $x_1$ use the intervals $[-1,-0.5), [-0,5, 0), [0,0.5), [0,5,1)$  and for $x_2$ the intervals $[0,0.5), [0,5,1)$."
   ]
  },
  {
   "cell_type": "code",
   "execution_count": 6,
   "id": "866e7b20",
   "metadata": {},
   "outputs": [
    {
     "data": {
      "text/plain": [
       "(array([2., 2., 2., 3.]),\n",
       " array([-1. , -0.5,  0. ,  0.5,  1. ]),\n",
       " <BarContainer object of 4 artists>)"
      ]
     },
     "execution_count": 6,
     "metadata": {},
     "output_type": "execute_result"
    },
    {
     "data": {
      "image/png": "[encoded data removed]",
      "text/plain": [
       "<Figure size 432x288 with 1 Axes>"
      ]
     },
     "metadata": {
      "needs_background": "light"
     },
     "output_type": "display_data"
    }
   ],
   "source": [
    "plt.hist(x1, bins=4, alpha=0.5, histtype='bar', ec='black')"
   ]
  },
  {
   "cell_type": "code",
   "execution_count": 7,
   "id": "790fcdbb",
   "metadata": {},
   "outputs": [
    {
     "data": {
      "text/plain": [
       "(array([4., 5.]), array([0. , 0.5, 1. ]), <BarContainer object of 2 artists>)"
      ]
     },
     "execution_count": 7,
     "metadata": {},
     "output_type": "execute_result"
    },
    {
     "data": {
      "image/png": "[encoded data removed]",
      "text/plain": [
       "<Figure size 432x288 with 1 Axes>"
      ]
     },
     "metadata": {
      "needs_background": "light"
     },
     "output_type": "display_data"
    }
   ],
   "source": [
    "plt.hist(x2, bins=2, alpha=0.5, histtype='bar', ec='black', range=(0,1))"
   ]
  },
  {
   "cell_type": "markdown",
   "id": "c1e90fc2",
   "metadata": {},
   "source": [
    "2) Take mean values (of the histogram) as replacement for the values in $x_1$ and $x_2$. \n"
   ]
  },
  {
   "cell_type": "markdown",
   "id": "23aaad42",
   "metadata": {},
   "source": [
    "| | 1 | 2 | 3 | 4 | 5 | 6 | 7 | 8 | 9 | \n",
    "| --- | --- | --- | --- | --- | --- | --- | --- |  --- | --- |\n",
    "| $x_1^*$ | -0.75 | -0.75 | -0.25 | -0.25 | 0.25 | 0.25 | 0.75 | 0.75 | 0.75 | \n",
    "| $x_2^*$ | 0.25 | 0.25  | 0.75| 0.75| 0.75| 0.75 | 0.75 | 0.25| 0.25|"
   ]
  },
  {
   "cell_type": "markdown",
   "id": "2f33a205",
   "metadata": {},
   "source": [
    "3) Create a table with the joint and marginal distribution of the new values for $x_1^*$ and $x_2^*$. (Imagine a line at the last row and column of the table)"
   ]
  },
  {
   "cell_type": "markdown",
   "id": "3723cd77",
   "metadata": {},
   "source": [
    "| $x_1^*$ / $x_2^*$| 0.25 | 0.75 |  $p_{x_1^*}$  | \n",
    "|  -------- | ---- | ---- | ---- | \n",
    "| $-0.75$| $\\frac{2}{9}$ |$0$ | $\\frac{2}{9}$ | \n",
    "| $-0.25$ | $0$ | $\\frac{2}{9}$ | $\\frac{2}{9}$| \n",
    "| $0.25$| $0$ |$\\frac{2}{9}$ | $\\frac{2}{9}$ | \n",
    "| $0.75$ | $\\frac{2}{9}$ | $\\frac{1}{9}$ | $\\frac{3}{9}$|  \n",
    "|  $p_{x_2^*}$ | $\\frac{4}{9}$ | $\\frac{5}{9}$ |$1$ |\n"
   ]
  },
  {
   "cell_type": "markdown",
   "id": "cccbffc5",
   "metadata": {},
   "source": [
    "Now we can calculate the approximate MI:\n",
    "\n",
    "\\begin{align}\n",
    "MI( x_1^*; x_2^*) &= \\sum_{x_1^*} \\sum_{x_2^*} p(x_1^*, x_2^*) \\log\\left(\\frac{p( x_1^*, x_2^*)}{p( x_1^*) p(x_2^*)}\\right)\\\\\n",
    "&= \\frac{2}{9} \\cdot \\log \\left(\\frac{\\frac{2}{9}}{\\frac{4}{9} \\cdot \\frac{2}{9}} \\right) \n",
    "+ \\frac{2}{9} \\cdot \\log \\left(\\frac{\\frac{2}{9}}{\\frac{5}{9} \\cdot \\frac{2}{9}} \\right)\n",
    "+ \\frac{2}{9} \\cdot \\log \\left(\\frac{\\frac{2}{9}}{\\frac{5}{9} \\cdot \\frac{2}{9}} \\right)\n",
    "+ \\frac{2}{9} \\cdot \\log \\left(\\frac{\\frac{2}{9}}{\\frac{4}{9} \\cdot \\frac{3}{9}} \\right)\n",
    "+ \\frac{1}{9} \\cdot \\log \\left(\\frac{\\frac{1}{9}}{\\frac{5}{9} \\cdot \\frac{3}{9}} \\right) \\\\\n",
    "&= \\frac{2}{9} \\left[\\log \\left(\\frac{9}{4}\\right) + 2 \\log \\left(\\frac{9}{5}\\right) +\\log \\left(\\frac{3}{2}\\right) \\right] +  \\frac{1}{9} \\log \\left(\\frac{3}{2}\\right) \\\\\n",
    "&= 0.4748\n",
    "\\end{align}\n",
    "\n",
    "$\\implies$ MI shows that there is a dependency."
   ]
  },
  {
   "cell_type": "markdown",
   "id": "f318155f",
   "metadata": {},
   "source": [
    "# Exercise 2\n",
    "Consider the following functions:\n",
    "\n",
    "i) $f(\\boldsymbol{x}) = 3x_1+ x_2^2 $\n",
    "\n",
    "ii) $f(\\boldsymbol{x}) = -x_1+ 2x_2 + \\log\\left(\\frac{x_1}{x_2^3}\\right)$\n",
    "\n",
    "iii) $f(\\boldsymbol{x})= x_1 - x_2 + 5|x_1|x_2^2$\n",
    "\n",
    "Check mathematically (on paper) if interactions are present."
   ]
  },
  {
   "cell_type": "markdown",
   "id": "f7a409cc",
   "metadata": {},
   "source": [
    "# Solution 2\n",
    "#### i) \n",
    "Since the function is already separable and \n",
    "\n",
    "\\begin{align}\n",
    "\\mathbb{E}\\left[\\frac{\\partial ^2 f(\\boldsymbol{x}) } {\\partial x_1 \\partial x_2}  \\right]^2 \n",
    "= \\mathbb{E}\\left[\\frac{\\partial ^2 } {\\partial x_1 \\partial x_2} (3x_1+ x_2^2) \\right]^2\n",
    "= \\mathbb{E}\\left[\\frac{\\partial  } {\\partial x_1}  2x_2 \\right]^2 \n",
    "= \\mathbb{E}\\left[0 \\right]^2 = 0,\n",
    "\\end{align}\n",
    "\n",
    "there are no interactions between the features.\n"
   ]
  },
  {
   "cell_type": "markdown",
   "id": "e46195d4",
   "metadata": {},
   "source": [
    "#### ii)\n",
    "\n",
    "\\begin{align}\n",
    "f(\\boldsymbol{x}) = -x_1+ 2x_2 + \\log\\left(\\frac{x_1}{x_2^3}\\right)= -x_1+ 2x_2 + \\log(x_1) - 3 \\log(x_2) \n",
    "\\end{align}\n",
    "\n",
    "$\\implies f(\\boldsymbol{x}) = f_1(\\boldsymbol{x}_1) +  f_2(\\boldsymbol{x}_2) $ with $f_1(\\boldsymbol{x}_1) = -x_1+ \\log(x_1)$ and $f_2(\\boldsymbol{x}_2) = 2x_2 - 3 \\log(x_2) $\n",
    "\n",
    "$\\implies$ no interactions due to separability, also:\n",
    "\n",
    "\\begin{align}\n",
    "\\mathbb{E}\\left[\\frac{\\partial ^2 f(\\boldsymbol{x}) } {\\partial x_1 \\partial x_2}  \\right]^2 \n",
    "&= \\mathbb{E}\\left[\\frac{\\partial ^2 } {\\partial x_1 \\partial x_2} \\left(-x_1+ 2x_2 + \\log\\left(\\frac{x_1}{x_2^3}\\right)\\right) \\right]^2 \\\\\n",
    "&= \\mathbb{E}\\left[\\frac{\\partial ^2 } {\\partial x_1 \\partial x_2} \\left(-x_1+ 2x_2 + \\log(x_1) - 3 \\log(x_2) \\right) \\right]^2 \\\\\n",
    "&= \\mathbb{E}\\left[\\frac{\\partial } {\\partial x_1} \\left(2 - 3 \\frac{1}{x_2}\\right) \\right]^2 \\\\\n",
    "&= \\mathbb{E}\\left[0 \\right]^2 = 0\n",
    "\\end{align}"
   ]
  },
  {
   "cell_type": "markdown",
   "id": "2439be36",
   "metadata": {},
   "source": [
    "#### iii)\n",
    "Since the function $f(\\boldsymbol{x})= x_1 - x_2 + 5|x_1|x_2^2$ is not differentiable for $x_1 = 0$, we need to consider different cases: $x_1 > 0$, $x_1 < 0$ and $x_1 = 0$.\n",
    "\n",
    "- Case 1: $x_1 > 0$\n",
    "\n",
    "    Let's first consider the partial derivatives.\n",
    "    \\begin{align}\n",
    "    \\frac{\\partial ^2 f(\\boldsymbol{x}) } {\\partial x_1 \\partial x_2} \n",
    "    = \\frac{\\partial ^2 } {\\partial x_1 \\partial x_2} (x_1 - x_2 + 5x_1x_2^2)\n",
    "    = \\frac{\\partial} {\\partial x_1} ( -1 + 10x_1x_2) = 10x_2\n",
    "    \\end{align}\n",
    "    Then\n",
    "    \\begin{align}\n",
    "    \\mathbb{E}\\left[\\frac{\\partial ^2 f(\\boldsymbol{x}) } {\\partial x_1 \\partial x_2}  \\right]^2 \n",
    "    = \\mathbb{E}[10 x_2]^2=10^2\\mathbb{E}[x_2]^2 > 0.\n",
    "    \\end{align}\n",
    "- Case 2: $x_1 < 0$\n",
    "\\begin{align}\n",
    "\\frac{\\partial ^2 f(\\boldsymbol{x}) } {\\partial x_1 \\partial x_2} \n",
    "= \\frac{\\partial ^2 } {\\partial x_1 \\partial x_2} (x_1 - x_2 - 5x_1x_2^2)\n",
    "= \\frac{\\partial} {\\partial x_1} ( -1 - 10x_1x_2) = -10x_2\n",
    "\\end{align}\n",
    "Then\n",
    "    \\begin{align}\n",
    "    \\mathbb{E}\\left[\\frac{\\partial ^2 f(\\boldsymbol{x}) } {\\partial x_1 \\partial x_2}  \\right]^2 \n",
    "    = \\mathbb{E}[-10 x_2]^2=10^2\\mathbb{E}[x_2]^2 >0 .\n",
    "    \\end{align}\n",
    "    \n",
    "- Case 3: $x_1 = 0$\n",
    "\n",
    "    Not considered, as analysis of interactions via definition requires the consideration of intervals. The examination\n",
    "    of single points does not make sense.\n",
    "    \n",
    "$\\implies$ $x_1$ and $x_2$ interact with each other."
   ]
  },
  {
   "cell_type": "markdown",
   "id": "4a545200",
   "metadata": {},
   "source": [
    "# Exercise 3*\n",
    "Show (on paper) that $R^2 = \\rho ^2$. "
   ]
  },
  {
   "cell_type": "markdown",
   "id": "79b7ba76",
   "metadata": {},
   "source": [
    "# Solution 3*\n",
    "This proof can be found in almost every statistics book and can easily be found in the internet as well. For example in \"Statistik\" from Fahrmeir et al. (Springer) it is well explained (unfortunatly in german). You just need to check the notation that is used in the lecture, and the one is used there. "
   ]
  }
 ],
 "metadata": {
  "kernelspec": {
   "display_name": "Python 3 (ipykernel)",
   "language": "python",
   "name": "python3"
  },
  "language_info": {
   "codemirror_mode": {
    "name": "ipython",
    "version": 3
   },
   "file_extension": ".py",
   "mimetype": "text/x-python",
   "name": "python",
   "nbconvert_exporter": "python",
   "pygments_lexer": "ipython3",
   "version": "3.9.12"
  }
 },
 "nbformat": 4,
 "nbformat_minor": 5
}
