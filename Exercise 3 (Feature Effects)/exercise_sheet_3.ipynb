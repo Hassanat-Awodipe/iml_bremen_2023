{
 "cells": [
  {
   "cell_type": "markdown",
   "id": "10758e62",
   "metadata": {},
   "source": [
    "# Interpretable Machine Learning\n",
    "## Exercise Sheet: 3 Feature Effect\n",
    "### Presentation date: 20.11.2023"
   ]
  },
  {
   "cell_type": "markdown",
   "id": "f1940ab9",
   "metadata": {},
   "source": [
    "# 1) Partial Dependence Plot (PDP), Individual Conditional Expectation ICE, and c-ICE"
   ]
  },
  {
   "cell_type": "markdown",
   "id": "80f7a3b1",
   "metadata": {},
   "source": [
    "In this task, the concepts of ICE, c-ICE, PDP will be explained. For this, you have to train a multilayer perceptron (MLP) on the regression dataset `sklearn.datasets.fetch_california_housing` and then implement the methods on your own."
   ]
  },
  {
   "cell_type": "markdown",
   "id": "c4135376",
   "metadata": {},
   "source": [
    "## a) Data\n",
    "Load the data and get familiar with it by extracting the features $X$ as a `pandas.DataFrame` and the target $Y$. Then, answer the following questions:\n",
    "\n",
    "- What are the features and what are their types (numeric, binary, categorical)?\n",
    "- What is the target outcome?"
   ]
  },
  {
   "cell_type": "code",
   "execution_count": null,
   "id": "f4e1c1c6",
   "metadata": {},
   "outputs": [],
   "source": []
  },
  {
   "cell_type": "markdown",
   "id": "1914386d",
   "metadata": {},
   "source": [
    "## b) Train MLP\n",
    "Create training and test data using the function `train_test_split` and train the predefined MLP model. Then calculate the $R^2$ value on the test data using the [score](https://scikit-learn.org/stable/modules/generated/sklearn.neural_network.MLPRegressor.html#sklearn.neural_network.MLPRegressor.score) method.\n",
    "\n",
    "**Hint:** Use function `fit(X_train, y_train)`."
   ]
  },
  {
   "cell_type": "code",
   "execution_count": null,
   "id": "1771ed46",
   "metadata": {},
   "outputs": [],
   "source": []
  },
  {
   "cell_type": "markdown",
   "id": "1f6ec165",
   "metadata": {},
   "source": [
    "## c) Implement ICE, c-ICE, PDP and create Plots\n",
    "Now let's apply the method to the feature `HouseAge`.\n",
    "\n",
    "**(i)** Implement ICE and create an ICE plot for feature `HouseAge`.\n",
    "\n",
    "**Hint:** Get the minimum and maximum value of this feature and create a vector with the intermediate values (`np.linspace(min, max, 100)`). Insert these values into the test data in a loop and calculate the output. Finally, create a plot with `plt.plot`."
   ]
  },
  {
   "cell_type": "code",
   "execution_count": null,
   "id": "f4637b39",
   "metadata": {},
   "outputs": [],
   "source": []
  },
  {
   "cell_type": "markdown",
   "id": "e623aa0a",
   "metadata": {},
   "source": [
    "**(ii)** Implement c-ICE and create a c-ICE for feature `HouseAge`."
   ]
  },
  {
   "cell_type": "code",
   "execution_count": null,
   "id": "c8f64efa",
   "metadata": {},
   "outputs": [],
   "source": []
  },
  {
   "cell_type": "markdown",
   "id": "ccaf301a",
   "metadata": {},
   "source": [
    "**(iii)** Implement PDP and create a PDP for feature `HouseAge`.\n",
    "\n",
    "**Hint:** Get the minimum and maximum value of this feature and create a vector with the intermediate values (`np.linspace(min, max, 100)`). Insert these values into the test data in a loop and calculate the average output. Finally, create a plot with `plt.plot`."
   ]
  },
  {
   "cell_type": "code",
   "execution_count": null,
   "id": "2e40a136",
   "metadata": {},
   "outputs": [],
   "source": []
  },
  {
   "cell_type": "markdown",
   "id": "04fc2e37",
   "metadata": {},
   "source": [
    "## d) Create ICE, c-ICE and PDP for feature `HouseAge` with a predefined function and check your implementation."
   ]
  },
  {
   "cell_type": "code",
   "execution_count": null,
   "id": "97310638",
   "metadata": {},
   "outputs": [],
   "source": []
  },
  {
   "cell_type": "markdown",
   "id": "a5901325",
   "metadata": {},
   "source": [
    "## e) Also try out other features."
   ]
  },
  {
   "cell_type": "code",
   "execution_count": null,
   "id": "b90c9e45",
   "metadata": {},
   "outputs": [],
   "source": []
  },
  {
   "cell_type": "markdown",
   "id": "65bc78e1",
   "metadata": {},
   "source": [
    "## f) What do these plots tell us? Can they indicate the importance of the feature and if not, how do you get it?"
   ]
  },
  {
   "cell_type": "code",
   "execution_count": null,
   "id": "a528573d",
   "metadata": {},
   "outputs": [],
   "source": []
  },
  {
   "cell_type": "markdown",
   "id": "5624ef31",
   "metadata": {},
   "source": [
    "# 2) Accumulated Local Effects (ALE) Plots\n",
    "\n",
    "## a*) (optional) Implement ALE from scratch. "
   ]
  },
  {
   "cell_type": "code",
   "execution_count": null,
   "id": "fc0082ab",
   "metadata": {},
   "outputs": [],
   "source": []
  },
  {
   "cell_type": "markdown",
   "id": "878cd846",
   "metadata": {},
   "source": [
    "# b) Example: ALE Plot\n",
    "\n",
    "**i)** Install the package [ALEPython](https://github.com/blent-ai/ALEPython) from Github and create an ALE plot for the example from task **1)** as well for the feature `HouseAge`.\n",
    "\n",
    "**Hint:** See the 'Install' and 'Usage' section on the Github page."
   ]
  },
  {
   "cell_type": "code",
   "execution_count": null,
   "id": "144085c5",
   "metadata": {},
   "outputs": [],
   "source": []
  },
  {
   "cell_type": "markdown",
   "id": "4fcbe4a7",
   "metadata": {},
   "source": [
    "**ii)** (optional) Compare with your own implementation from a)."
   ]
  },
  {
   "cell_type": "code",
   "execution_count": null,
   "id": "9a605bf1",
   "metadata": {},
   "outputs": [],
   "source": []
  },
  {
   "cell_type": "markdown",
   "id": "86d7bb6a",
   "metadata": {},
   "source": [
    "**iii)** How does the ALE plot differ from the PDP in task 1? Give possible reasons for the similarities or differences."
   ]
  },
  {
   "cell_type": "code",
   "execution_count": null,
   "id": "4457c848",
   "metadata": {},
   "outputs": [],
   "source": [
    " "
   ]
  }
 ],
 "metadata": {
  "kernelspec": {
   "display_name": "Python 3 (ipykernel)",
   "language": "python",
   "name": "python3"
  },
  "language_info": {
   "codemirror_mode": {
    "name": "ipython",
    "version": 3
   },
   "file_extension": ".py",
   "mimetype": "text/x-python",
   "name": "python",
   "nbconvert_exporter": "python",
   "pygments_lexer": "ipython3",
   "version": "3.9.12"
  }
 },
 "nbformat": 4,
 "nbformat_minor": 5
}
