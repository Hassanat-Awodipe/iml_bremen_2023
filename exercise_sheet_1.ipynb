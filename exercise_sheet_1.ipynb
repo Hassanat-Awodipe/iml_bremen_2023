{
 "cells": [
  {
   "cell_type": "markdown",
   "id": "2395d4a4",
   "metadata": {},
   "source": [
    "# Exercise  1\n",
    "Given a dataset with 9 observations and two features:\n",
    "\n",
    "| | 1 | 2 | 3 | 4 | 5 | 6 | 7 | 8 | 9 | \n",
    "| --- | --- | --- | --- | --- | --- | --- | --- |  --- | --- |\n",
    "| $y$ | -7.79 | -5.37 | -4.08 | -1.97 | 0.02 | 2.05 | 1.93 | 2.16 | 2.13|\n",
    "| $x_1$ | -1.00 | -0.75 | -0.50 | -0.25 | 0.00 | 0.25 | 0.50 | 0.75 | 1.00 | \n",
    "| $x_2$ | 0.01 | 0.44  | 0.74| 0.95| 0.98| 0.94 | 0.76 | 0.42| 0.02|\n",
    "\n",
    "a) Implement the Pearson correlation.\n",
    "\n",
    "b) Calculate the Pearson correlation of $x_1$ and $x_2$ and check your results with a given function of a Python library.\n",
    "\n",
    "c) Interpret the result, are $x_1$ and $x_2$ correlated?\n",
    "\n",
    "d) Plot the points $(x_1, x_2)$ in a figure. Is the Pearson correlation coefficient a reliable measure to detect dependencies for this example dataset.\n",
    "\n",
    "e) Calculate the \"Mutual Information\" (on paper). Is this a more suitable measure for this example? \\\n",
    "Hint: 1) Make histograms of $x_1$ and $x_2$. For $x_1$ use the intervals $[-1,-0.5), [-0,5, 0), [0,0.5), [0,5,1)$  and for $x_2$ the intervals $[0,0.5), [0,5,1)$. \\\n",
    "2) Take mean values (of the histogram) as replacement for the values in $x_1$ and $x_2$. \\\n",
    "3) Create a table with the joint and marginal distribution of the new values for $x_1^*$ and $x_2^*$."
   ]
  },
  {
   "cell_type": "code",
   "execution_count": null,
   "id": "1e582f8f",
   "metadata": {},
   "outputs": [],
   "source": []
  },
  {
   "cell_type": "markdown",
   "id": "f318155f",
   "metadata": {},
   "source": [
    "# Exercise 2\n",
    "Consider the following functions:\n",
    "\n",
    "i) $f(x) = 3x_1+ x_2^2 $\n",
    "\n",
    "ii) $f(x) = -x_1+ 2x_2 + \\log\\left(\\frac{x_1}{x_2^3}\\right)$\n",
    "\n",
    "ii) $f(x)= x_1 - x_2 + 5|x_1|x_2^2$\n",
    "\n",
    "Check mathematically (on paper) if interactions are present."
   ]
  },
  {
   "cell_type": "code",
   "execution_count": null,
   "id": "9ee36f93",
   "metadata": {},
   "outputs": [],
   "source": []
  },
  {
   "cell_type": "markdown",
   "id": "4a545200",
   "metadata": {},
   "source": [
    "# Exercise 3*\n",
    "Show (on paper) that $R^2 = \\rho ^2$. "
   ]
  }
 ],
 "metadata": {
  "kernelspec": {
   "display_name": "Python 3 (ipykernel)",
   "language": "python",
   "name": "python3"
  },
  "language_info": {
   "codemirror_mode": {
    "name": "ipython",
    "version": 3
   },
   "file_extension": ".py",
   "mimetype": "text/x-python",
   "name": "python",
   "nbconvert_exporter": "python",
   "pygments_lexer": "ipython3",
   "version": "3.9.12"
  }
 },
 "nbformat": 4,
 "nbformat_minor": 5
}
